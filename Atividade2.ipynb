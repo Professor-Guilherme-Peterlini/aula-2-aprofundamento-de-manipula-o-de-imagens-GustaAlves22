{
 "cells": [
  {
   "cell_type": "code",
   "execution_count": 148,
   "metadata": {},
   "outputs": [
    {
     "name": "stdout",
     "output_type": "stream",
     "text": [
      "Requirement already satisfied: Pillow in /home/codespace/.local/lib/python3.12/site-packages (11.0.0)\n",
      "Note: you may need to restart the kernel to use updated packages.\n"
     ]
    }
   ],
   "source": [
    "pip install Pillow"
   ]
  },
  {
   "cell_type": "code",
   "execution_count": 149,
   "metadata": {},
   "outputs": [],
   "source": [
    "from PIL import Image, ImageEnhance, ImageFilter, ImageOps"
   ]
  },
  {
   "cell_type": "code",
   "execution_count": 150,
   "metadata": {},
   "outputs": [],
   "source": [
    "### EXERCICIO 4\n",
    "# Deixando o Yuri Alberto monstro sagrado cinza. "
   ]
  },
  {
   "cell_type": "code",
   "execution_count": 151,
   "metadata": {},
   "outputs": [],
   "source": [
    "imagem = Image.open('Predio de Vila Velha.jpg')"
   ]
  },
  {
   "cell_type": "code",
   "execution_count": 152,
   "metadata": {},
   "outputs": [],
   "source": [
    "def converter_escala_cinza(imagem):\n",
    "  # Método 1: Média simples dos canais.\n",
    "    img_luminosidade = imagem.convert('L', matrix=[\n",
    "        0.299, 0.587, 0.114, 0,\n",
    "        0.299, 0.587, 0.114, 0,\n",
    "        0.299, 0.587, 0.114, 0\n",
    "    ])\n",
    "\n",
    "    return img_luminosidade"
   ]
  },
  {
   "cell_type": "code",
   "execution_count": 153,
   "metadata": {},
   "outputs": [],
   "source": [
    "imagem_nova = converter_escala_cinza(imagem)\n",
    "imagem_nova.save('Predio de Vila Velha porém cinza.jpg')"
   ]
  },
  {
   "cell_type": "code",
   "execution_count": 154,
   "metadata": {},
   "outputs": [],
   "source": [
    "### EXERCICIO 5\n",
    "# Detectar borda da imagem do Yuri Alberto monstro sagrado."
   ]
  },
  {
   "cell_type": "code",
   "execution_count": 155,
   "metadata": {},
   "outputs": [],
   "source": [
    "def detectar_bordas_sobel(imagem):\n",
    "    img_cinza = imagem.convert('L')\n",
    "\n",
    "    # Sobel\n",
    "    bordas_sobel_h = img_cinza.filter(ImageFilter.Kernel((3, 3),\n",
    "        [-1, 0, 1, -2, 0, 2, -1, 0, 1]))\n",
    "    \n",
    "    return {'sobel_h': bordas_sobel_h,}"
   ]
  },
  {
   "cell_type": "code",
   "execution_count": 156,
   "metadata": {},
   "outputs": [],
   "source": [
    "imagem_nova = detectar_bordas_sobel(imagem)\n",
    "imagem = imagem_nova['sobel_h']\n",
    "imagem.save('Predio de Vila Velha porém em operador sobel.jpg')"
   ]
  },
  {
   "cell_type": "code",
   "execution_count": 157,
   "metadata": {},
   "outputs": [],
   "source": [
    "def detectar_bordas_pewitt(imagem):\n",
    "    img_cinza = imagem.convert('L')\n",
    "    \n",
    "    bordas_prewitt = img_cinza.filter(ImageFilter.CONTOUR)\n",
    "\n",
    "    return {'prewitt': bordas_prewitt}"
   ]
  },
  {
   "cell_type": "code",
   "execution_count": 158,
   "metadata": {},
   "outputs": [],
   "source": [
    "imagem_nova = detectar_bordas_pewitt(imagem)\n",
    "imagem = imagem_nova['prewitt']\n",
    "imagem.save('Mulher show de bola porém operador prewitt.jpg')"
   ]
  },
  {
   "cell_type": "code",
   "execution_count": 159,
   "metadata": {},
   "outputs": [],
   "source": [
    "def detectar_bordas_laplece(imagem):\n",
    "    img_cinza = imagem.convert('L')\n",
    "    bordas_laplace = img_cinza.filter(ImageFilter.Kernel((3, 3),\n",
    "        [0, 1, 0, 1, -4, 1, 0, 1, 0]))\n",
    "    \n",
    "    return {'laplace': bordas_laplace}"
   ]
  },
  {
   "cell_type": "code",
   "execution_count": 160,
   "metadata": {},
   "outputs": [],
   "source": [
    "imagem_nova = detectar_bordas_laplece(imagem)\n",
    "imagem = imagem_nova['laplace']\n",
    "imagem.save('Mulher show de bola porém operador laplace.jpg')"
   ]
  },
  {
   "cell_type": "code",
   "execution_count": 161,
   "metadata": {},
   "outputs": [],
   "source": [
    "### EXERCICIO 6\n"
   ]
  },
  {
   "cell_type": "code",
   "execution_count": 162,
   "metadata": {},
   "outputs": [],
   "source": [
    "def pipeline_processamento(imagem, limiar=128):\n",
    "    # Conversão para escala de cinza\n",
    "    img_cinza = imagem.convert('L')\n",
    "    \n",
    "    # Equalização de histograma\n",
    "    imagem_equalizada = ImageOps.equalize(img_cinza)\n",
    "    \n",
    "    # Detecção de bordas\n",
    "    imagem_bordas = imagem_equalizada.filter(ImageFilter.FIND_EDGES)\n",
    "    \n",
    "    # Limiarização\n",
    "    imagem_final = imagem_bordas.point(lambda x: 255 if x > limiar else 0)\n",
    "    \n",
    "    return imagem_final"
   ]
  },
  {
   "cell_type": "code",
   "execution_count": 163,
   "metadata": {},
   "outputs": [],
   "source": [
    "imagem_nova = pipeline_processamento(imagem)\n",
    "imagem_nova.save('Mulher show de bola final.jpg')"
   ]
  },
  {
   "cell_type": "code",
   "execution_count": null,
   "metadata": {},
   "outputs": [],
   "source": []
  }
 ],
 "metadata": {
  "kernelspec": {
   "display_name": "Python 3",
   "language": "python",
   "name": "python3"
  },
  "language_info": {
   "codemirror_mode": {
    "name": "ipython",
    "version": 3
   },
   "file_extension": ".py",
   "mimetype": "text/x-python",
   "name": "python",
   "nbconvert_exporter": "python",
   "pygments_lexer": "ipython3",
   "version": "3.12.1"
  }
 },
 "nbformat": 4,
 "nbformat_minor": 2
}
